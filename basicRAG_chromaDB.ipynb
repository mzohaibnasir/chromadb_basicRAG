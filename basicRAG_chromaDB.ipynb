{
  "nbformat": 4,
  "nbformat_minor": 0,
  "metadata": {
    "colab": {
      "provenance": [],
      "authorship_tag": "ABX9TyOdsoNVa+RbG8eC+tWEmXMT",
      "include_colab_link": true
    },
    "kernelspec": {
      "name": "python3",
      "display_name": "Python 3"
    },
    "language_info": {
      "name": "python"
    }
  },
  "cells": [
    {
      "cell_type": "markdown",
      "metadata": {
        "id": "view-in-github",
        "colab_type": "text"
      },
      "source": [
        "<a href=\"https://colab.research.google.com/github/mzohaibnasir/chromadb_basicRAG/blob/main/basicRAG_chromaDB.ipynb\" target=\"_parent\"><img src=\"https://colab.research.google.com/assets/colab-badge.svg\" alt=\"Open In Colab\"/></a>"
      ]
    },
    {
      "cell_type": "code",
      "source": [
        "import os\n",
        "from google.colab import userdata\n",
        "\n",
        "OPENAI_API_KEY = userdata.get(\"OPENAI_API_KEY\")\n",
        "PINECONE_API_KEY = userdata.get(\"PINECONE_API_KEY\")\n",
        "\n",
        "\n",
        "os.environ['OPENAI_API_KEY'] = OPENAI_API_KEY\n",
        "os.environ['PINECONE_API_KEY'] = PINECONE_API_KEY\n",
        "\n",
        "\n",
        "# OPENAIAPIKEY,PINECONEAPIKEY"
      ],
      "metadata": {
        "id": "4TQ-LVbuf85o"
      },
      "execution_count": 1,
      "outputs": []
    },
    {
      "cell_type": "markdown",
      "source": [
        "# Chroma Vector DB\n",
        "\n",
        "pinecone is designed to handle real-time search and similarity matching at scale.. automatic indexing is available but its costly and limited querying functionality\n",
        "\n",
        "Chromadb is not cloud based but it is smilar to pinecone(designed for vector storage and handle retreval). opensource. extensive querying but deployment complexity and might not be great as pinecone in realtime.\n"
      ],
      "metadata": {
        "id": "IRvJ2j_TfzP3"
      }
    },
    {
      "cell_type": "code",
      "execution_count": null,
      "metadata": {
        "id": "EL13fhNifvQM"
      },
      "outputs": [],
      "source": [
        "! pip install langchain\n",
        "! pip install openai\n",
        "! pip install tiktoken\n",
        "! pip install chromadb\n",
        "!pip install unstructured\n",
        "# ! pip install pypdf\n",
        "# ! pip install -U langchain_chroma\n",
        "# ! pip install -U langchain_openai"
      ]
    },
    {
      "cell_type": "code",
      "source": [
        "! pip show chromadb"
      ],
      "metadata": {
        "colab": {
          "base_uri": "https://localhost:8080/"
        },
        "id": "Wt9NKyv8f51v",
        "outputId": "490d7af3-f0bc-436b-a623-e0ff83d1bc10"
      },
      "execution_count": 4,
      "outputs": [
        {
          "output_type": "stream",
          "name": "stdout",
          "text": [
            "Name: chromadb\n",
            "Version: 0.4.24\n",
            "Summary: Chroma.\n",
            "Home-page: \n",
            "Author: \n",
            "Author-email: Jeff Huber <jeff@trychroma.com>, Anton Troynikov <anton@trychroma.com>\n",
            "License: \n",
            "Location: /usr/local/lib/python3.10/dist-packages\n",
            "Requires: bcrypt, build, chroma-hnswlib, fastapi, grpcio, importlib-resources, kubernetes, mmh3, numpy, onnxruntime, opentelemetry-api, opentelemetry-exporter-otlp-proto-grpc, opentelemetry-instrumentation-fastapi, opentelemetry-sdk, orjson, overrides, posthog, pulsar-client, pydantic, pypika, PyYAML, requests, tenacity, tokenizers, tqdm, typer, typing-extensions, uvicorn\n",
            "Required-by: \n"
          ]
        }
      ]
    },
    {
      "cell_type": "code",
      "source": [
        "from langchain.vectorstores import Chroma\n",
        "from langchain.embeddings import OpenAIEmbeddings\n",
        "from langchain.llms import OpenAI\n",
        "from langchain.document_loaders import DirectoryLoader, TextLoader"
      ],
      "metadata": {
        "id": "BT6unO6X1P4a"
      },
      "execution_count": 8,
      "outputs": []
    },
    {
      "cell_type": "code",
      "source": [
        "! wget -q https://www.dropbox.com/s/vs6ocyvpzzncvwh/new_articles.zip"
      ],
      "metadata": {
        "id": "-H8QLMtjf539"
      },
      "execution_count": 6,
      "outputs": []
    },
    {
      "cell_type": "code",
      "source": [
        "! unzip -q new_articles.zip -d new_articles"
      ],
      "metadata": {
        "id": "uPP-drKdlGgD"
      },
      "execution_count": 7,
      "outputs": []
    },
    {
      "cell_type": "code",
      "source": [
        "loader = DirectoryLoader(\"/content/new_articles\",\n",
        "                glob = \"./*.txt\")\n",
        "document = loader.load()"
      ],
      "metadata": {
        "id": "jls3FFYUf55n"
      },
      "execution_count": 12,
      "outputs": []
    },
    {
      "cell_type": "code",
      "source": [
        "len(document), print(document[0].page_content)"
      ],
      "metadata": {
        "id": "eCu7ljUEv-N2"
      },
      "execution_count": null,
      "outputs": []
    },
    {
      "cell_type": "code",
      "source": [
        "# creating chunks\n",
        "from langchain.text_splitter import RecursiveCharacterTextSplitter\n",
        "\n",
        "text_splitter = RecursiveCharacterTextSplitter(\n",
        "    chunk_size = 1000,\n",
        "    chunk_overlap = 200\n",
        "\n",
        ")\n",
        "\n",
        "text = text_splitter.split_documents(\n",
        "    document\n",
        ")\n"
      ],
      "metadata": {
        "id": "wMkrXQh-v-QO"
      },
      "execution_count": null,
      "outputs": []
    },
    {
      "cell_type": "code",
      "source": [
        "len(text), text[0]"
      ],
      "metadata": {
        "colab": {
          "base_uri": "https://localhost:8080/"
        },
        "id": "4RF43Oz5v-S4",
        "outputId": "f280cabd-4cf2-46e2-c6a4-7a995608eec3"
      },
      "execution_count": 23,
      "outputs": [
        {
          "output_type": "execute_result",
          "data": {
            "text/plain": [
              "(233,\n",
              " Document(page_content='It’s that time of week again, folks — Week in Review (WiR) time. For those new to the scene, WiR is TechCrunch’s regular newsletter that recaps the biggest tech stories over the past few days. There’s no better digest for the person on the go, we’d argue — but of course, we’re a little biased.\\n\\nBefore we get into the meat of the thing, a quick reminder that TC City Spotlight: Atlanta is fast approaching. On June 7, TechCrunch is headed to Atlanta, where we’ll host a pitch competition, a talk on the economics of equality, a panel discussion on investing in the Atlanta ecosystem and more.\\n\\nElsewhere, there’s a TechCrunch Live event with Persona and Index Ventures on May 10, which will touch on how Persona keeps pace with new threats and how Index made a prescient move to spot and back Persona early on. And we have Disrupt in San Francisco from September 19–21 — our annual conference is jam-packed with expert-led sessions and interviews with movers and shakers in the tech space.', metadata={'source': '/content/new_articles/05-06-amazon-launches-free-channels-check-marks-come-to-gmail-and-openai-raises-more-moolah.txt'}))"
            ]
          },
          "metadata": {},
          "execution_count": 23
        }
      ]
    },
    {
      "cell_type": "code",
      "source": [],
      "metadata": {
        "id": "8fcLE7h-v-VG"
      },
      "execution_count": null,
      "outputs": []
    },
    {
      "cell_type": "markdown",
      "source": [
        "## creating DB"
      ],
      "metadata": {
        "id": "HrfgGEPyGkN4"
      }
    },
    {
      "cell_type": "code",
      "source": [
        "from langchain import embeddings"
      ],
      "metadata": {
        "id": "TRkHlkhsHXcH"
      },
      "execution_count": 26,
      "outputs": []
    },
    {
      "cell_type": "code",
      "source": [
        "persist_directory = 'db'  # local storage directory"
      ],
      "metadata": {
        "id": "FtiU1DTGHhLT"
      },
      "execution_count": 27,
      "outputs": []
    },
    {
      "cell_type": "code",
      "source": [
        "\n",
        "embedding = OpenAIEmbeddings()\n",
        "\n",
        "vectordb = Chroma.from_documents(\n",
        "    documents = text,\n",
        "    embedding=embedding,\n",
        "    persist_directory = persist_directory\n",
        ")\n",
        "\n"
      ],
      "metadata": {
        "id": "UH6WzITKv-Y3"
      },
      "execution_count": 28,
      "outputs": []
    },
    {
      "cell_type": "markdown",
      "source": [
        "### in pinecone we were able to see embeddnigs but in chromedb all embeddings are in binary files(.bin). Chromadb is not a server but a  wrapper and in backend its using sqlite3."
      ],
      "metadata": {
        "id": "fmw0GfI9IbpN"
      }
    },
    {
      "cell_type": "code",
      "source": [
        "# persist db to disk\n",
        "vectordb.persist()"
      ],
      "metadata": {
        "id": "cil8riixHEEu"
      },
      "execution_count": 30,
      "outputs": []
    },
    {
      "cell_type": "code",
      "source": [
        "vectordb=None"
      ],
      "metadata": {
        "id": "_R-ZpzxHf57g"
      },
      "execution_count": 3,
      "outputs": []
    },
    {
      "cell_type": "code",
      "source": [
        "# load persisted database from diks and use it as normal fashion\n",
        "vectordb = Chroma(\n",
        "    persist_directory = persist_directory,\n",
        "    embedding_function = embedding\n",
        ")\n",
        "vectordb # so I'm able to persist my data in my local disk"
      ],
      "metadata": {
        "colab": {
          "base_uri": "https://localhost:8080/"
        },
        "id": "4Ex1wNYRJfLI",
        "outputId": "4d619183-03fa-4fad-e088-667c85f4ec11"
      },
      "execution_count": 31,
      "outputs": [
        {
          "output_type": "execute_result",
          "data": {
            "text/plain": [
              "<langchain_community.vectorstores.chroma.Chroma at 0x7ab2b7a37cd0>"
            ]
          },
          "metadata": {},
          "execution_count": 31
        }
      ]
    },
    {
      "cell_type": "markdown",
      "source": [
        "## Make retriever"
      ],
      "metadata": {
        "id": "T7k4PD6QKSn8"
      }
    },
    {
      "cell_type": "code",
      "source": [
        "retriever = vectordb.as_retriever()\n",
        "retriever"
      ],
      "metadata": {
        "colab": {
          "base_uri": "https://localhost:8080/"
        },
        "id": "-WznuU34KQNN",
        "outputId": "9b6a66c5-afe6-401a-f50c-02a12a3ac094"
      },
      "execution_count": 32,
      "outputs": [
        {
          "output_type": "execute_result",
          "data": {
            "text/plain": [
              "VectorStoreRetriever(tags=['Chroma', 'OpenAIEmbeddings'], vectorstore=<langchain_community.vectorstores.chroma.Chroma object at 0x7ab2b7a37cd0>)"
            ]
          },
          "metadata": {},
          "execution_count": 32
        }
      ]
    },
    {
      "cell_type": "code",
      "source": [
        "docs = retriever.get_relevant_documents(\n",
        "    \"tell me about money Micrososft raised?\"\n",
        ")\n",
        "docs"
      ],
      "metadata": {
        "colab": {
          "base_uri": "https://localhost:8080/"
        },
        "id": "ztBMtbijJfOC",
        "outputId": "84ab0905-01a8-4232-851a-1dac5d89b1b5"
      },
      "execution_count": 36,
      "outputs": [
        {
          "output_type": "execute_result",
          "data": {
            "text/plain": [
              "[Document(page_content='April 28, 2023\\n\\nVC firms including Sequoia Capital, Andreessen Horowitz, Thrive and K2 Global are picking up new shares, according to documents seen by TechCrunch. A source tells us Founders Fund is also investing. Altogether the VCs have put in just over $300 million at a valuation of $27 billion to $29 billion. This is separate to a big investment from Microsoft announced earlier this year, a person familiar with the development told TechCrunch, which closed in January. The size of Microsoft’s investment is believed to be around $10 billion, a figure we confirmed with our source.\\n\\nApril 25, 2023\\n\\nCalled ChatGPT Business, OpenAI describes the forthcoming offering as “for professionals who need more control over their data as well as enterprises seeking to manage their end users.”', metadata={'source': '/content/new_articles/05-03-chatgpt-everything-you-need-to-know-about-the-ai-powered-chatbot.txt'}),\n",
              " Document(page_content='Partners of 3one4 Capital, a venture capital firm in India, recently went on a road show to raise a new fund. Within two and a half months, at the height of the worsening global economy, they had secured $200 million. It’s the fourth marquee fund for the Bengaluru-headquartered fund, whose portfolio includes four unicorn startups.\\n\\nThe fund, sixth overall for 3one4 Capital, was oversubscribed to $250 million but the firm is accepting only $200 million to keep itself lean and disciplined, said Pranav Pai, co-founder and partner at 3one4 Capital. The firm’s decision to limit the fund size is emblematic of its strategic choices, which have set it apart from other Indian venture firms.', metadata={'source': '/content/new_articles/05-07-3one4-capital-driven-by-contrarian-bets-raises-200-million-new-fund.txt'}),\n",
              " Document(page_content='Manish Singh reported that Paytm, India’s leading mobile payments firm, reported a 13.2% surge in revenue to $285.7 million in the quarter ending March and pared its loss by 57% to $20.5 million “in a sharp turnaround for the company that is increasingly trying to become profitable following a tremulous year and a half after its public debut.” More here.\\n\\nMore headlines\\n\\nApple and fintechs like Robinhood chase yield-hungry depositors as Fed rate hikes continue. Similarly, Arta Finance, a company providing access to alternative assets, debuted the Harvest Treasuries AI-Managed Portfolio, which offers a 4.62% APY (annual percentage yield), and Wealthfront’s cash account now offers 4.55% for all clients and 5.05% APY for clients who refer a friend.\\n\\nFintech projected to become a $1.5 trillion industry by 2030, according to a new report from Boston Consulting Group and QED Investors\\n\\nOpendoor tech earnings beat by $0.77, revenue topped estimates', metadata={'source': '/content/new_articles/05-07-fintech-space-continues-to-be-competitive-and-drama-filled.txt'}),\n",
              " Document(page_content='Exclusive: Former Venmo COO raises $20M for Vera Equity\\n\\nTarabut Gateway raises $32 million to expand Saudi open banking\\n\\nMusic financing startup Duetti raises $32 million to buy old songs\\n\\nBilling platform Inbox Health raises $22.5M and more digital health fundings\\n\\nGoogle’s VC firm just led a $12 million Series A investment in Range, a startup that’s training AI to give financial advice\\n\\nOpenEnvoy raises $15 million to grow AP automation solution\\n\\nMiami-based startup Kiddie Kredit raises $1.4M with support from Dwyane Wade and Baron Davis\\n\\nBlack-owned tech firm Greenwood acquires digital banking rival. TechCrunch covered Greenwood’s last raise in March of 2021 here.', metadata={'source': '/content/new_articles/05-07-fintech-space-continues-to-be-competitive-and-drama-filled.txt'})]"
            ]
          },
          "metadata": {},
          "execution_count": 36
        }
      ]
    },
    {
      "cell_type": "code",
      "source": [
        "\"\"\"\n",
        "\n",
        "Data-> embedding -> chromadb\n",
        "\n",
        "\n",
        "Retriever makes a query.request goes to db and I get response based on similarity search.\n",
        "\"\"\""
      ],
      "metadata": {
        "id": "Ir4Yu32ZJfQi"
      },
      "execution_count": null,
      "outputs": []
    },
    {
      "cell_type": "code",
      "source": [
        "len(docs)"
      ],
      "metadata": {
        "colab": {
          "base_uri": "https://localhost:8080/"
        },
        "id": "QHKMFtIXLEeo",
        "outputId": "e5929b20-e0af-49bf-9b69-e2c56c3c7f0d"
      },
      "execution_count": 37,
      "outputs": [
        {
          "output_type": "execute_result",
          "data": {
            "text/plain": [
              "4"
            ]
          },
          "metadata": {},
          "execution_count": 37
        }
      ]
    },
    {
      "cell_type": "code",
      "source": [
        "retriever = vectordb.as_retriever(\n",
        "    search_kwargs={\"k\":2}\n",
        ")\n",
        "retriever.search_kwargs"
      ],
      "metadata": {
        "colab": {
          "base_uri": "https://localhost:8080/"
        },
        "id": "eoba5Wf7LgC-",
        "outputId": "7a63bf82-cef9-43bd-8fd1-abc70daefe23"
      },
      "execution_count": 38,
      "outputs": [
        {
          "output_type": "execute_result",
          "data": {
            "text/plain": [
              "{'k': 2}"
            ]
          },
          "metadata": {},
          "execution_count": 38
        }
      ]
    },
    {
      "cell_type": "code",
      "source": [
        "docs2 = retriever.get_relevant_documents(\"how much money did Microsoft raised?\")\n",
        "len(docs2)"
      ],
      "metadata": {
        "colab": {
          "base_uri": "https://localhost:8080/"
        },
        "id": "_sRXJ5wbLgj4",
        "outputId": "9b56a1d6-0c64-4d47-fe36-6e4008039d30"
      },
      "execution_count": 39,
      "outputs": [
        {
          "output_type": "execute_result",
          "data": {
            "text/plain": [
              "2"
            ]
          },
          "metadata": {},
          "execution_count": 39
        }
      ]
    },
    {
      "cell_type": "code",
      "source": [
        "docs2"
      ],
      "metadata": {
        "colab": {
          "base_uri": "https://localhost:8080/"
        },
        "id": "mScvAQqNLgmb",
        "outputId": "fc871365-2a6f-4400-e65a-cc7086e9295c"
      },
      "execution_count": 40,
      "outputs": [
        {
          "output_type": "execute_result",
          "data": {
            "text/plain": [
              "[Document(page_content='April 28, 2023\\n\\nVC firms including Sequoia Capital, Andreessen Horowitz, Thrive and K2 Global are picking up new shares, according to documents seen by TechCrunch. A source tells us Founders Fund is also investing. Altogether the VCs have put in just over $300 million at a valuation of $27 billion to $29 billion. This is separate to a big investment from Microsoft announced earlier this year, a person familiar with the development told TechCrunch, which closed in January. The size of Microsoft’s investment is believed to be around $10 billion, a figure we confirmed with our source.\\n\\nApril 25, 2023\\n\\nCalled ChatGPT Business, OpenAI describes the forthcoming offering as “for professionals who need more control over their data as well as enterprises seeking to manage their end users.”', metadata={'source': '/content/new_articles/05-03-chatgpt-everything-you-need-to-know-about-the-ai-powered-chatbot.txt'}),\n",
              " Document(page_content='Partners of 3one4 Capital, a venture capital firm in India, recently went on a road show to raise a new fund. Within two and a half months, at the height of the worsening global economy, they had secured $200 million. It’s the fourth marquee fund for the Bengaluru-headquartered fund, whose portfolio includes four unicorn startups.\\n\\nThe fund, sixth overall for 3one4 Capital, was oversubscribed to $250 million but the firm is accepting only $200 million to keep itself lean and disciplined, said Pranav Pai, co-founder and partner at 3one4 Capital. The firm’s decision to limit the fund size is emblematic of its strategic choices, which have set it apart from other Indian venture firms.', metadata={'source': '/content/new_articles/05-07-3one4-capital-driven-by-contrarian-bets-raises-200-million-new-fund.txt'})]"
            ]
          },
          "metadata": {},
          "execution_count": 40
        }
      ]
    },
    {
      "cell_type": "code",
      "source": [],
      "metadata": {
        "id": "HBYjP6ysLgo0"
      },
      "execution_count": null,
      "outputs": []
    },
    {
      "cell_type": "markdown",
      "source": [
        "## make it more realistic\n",
        "###Make a chain"
      ],
      "metadata": {
        "id": "iOzULCzAMYnu"
      }
    },
    {
      "cell_type": "code",
      "source": [
        "from langchain.chains import RetrievalQA"
      ],
      "metadata": {
        "id": "wVy52HyHMV5H"
      },
      "execution_count": 41,
      "outputs": []
    },
    {
      "cell_type": "code",
      "source": [
        "llm = OpenAI()\n",
        "# llm"
      ],
      "metadata": {
        "id": "QVLR_8djMV8W"
      },
      "execution_count": 43,
      "outputs": []
    },
    {
      "cell_type": "code",
      "source": [
        "# creating a chain to answer questions\n",
        "qa_chain = RetrievalQA.from_chain_type(\n",
        "    llm =llm,\n",
        "    chain_type = \"stuff\",\n",
        "    retriever=retriever,\n",
        "    return_source_documents = True\n",
        ")\n",
        "# qa_chain"
      ],
      "metadata": {
        "id": "w7JLaOuhLgrE"
      },
      "execution_count": 47,
      "outputs": []
    },
    {
      "cell_type": "code",
      "source": [
        "# cite sources\n",
        "def process_llm_response(llm_response):\n",
        "  print(llm_response['result'])\n",
        "  print('\\n\\nSources:')\n",
        "  for source in llm_response[\"source_documents\"]:\n",
        "    print(source.metadata[\"source\"])"
      ],
      "metadata": {
        "id": "uh9w1HqHLgtj"
      },
      "execution_count": 51,
      "outputs": []
    },
    {
      "cell_type": "code",
      "source": [],
      "metadata": {
        "id": "jA_RUQHFLgvi"
      },
      "execution_count": 51,
      "outputs": []
    },
    {
      "cell_type": "code",
      "source": [
        "query = \"how much money did Microsoft raised?\"\n",
        "llm_response=qa_chain(query)\n",
        "process_llm_response(llm_response)"
      ],
      "metadata": {
        "colab": {
          "base_uri": "https://localhost:8080/"
        },
        "id": "Smcmzg0-LgyV",
        "outputId": "73999418-531c-4632-ea31-7f809a41b274"
      },
      "execution_count": 52,
      "outputs": [
        {
          "output_type": "stream",
          "name": "stdout",
          "text": [
            " $10 billion\n",
            "\n",
            "\n",
            "Sources:\n",
            "/content/new_articles/05-03-chatgpt-everything-you-need-to-know-about-the-ai-powered-chatbot.txt\n",
            "/content/new_articles/05-07-3one4-capital-driven-by-contrarian-bets-raises-200-million-new-fund.txt\n"
          ]
        }
      ]
    },
    {
      "cell_type": "code",
      "source": [
        "llm_response['source_documents'][0].metadata"
      ],
      "metadata": {
        "colab": {
          "base_uri": "https://localhost:8080/"
        },
        "id": "RHz2BxZ7PdNE",
        "outputId": "e45e516b-f76a-421c-ae3b-1f266cff06eb"
      },
      "execution_count": 60,
      "outputs": [
        {
          "output_type": "execute_result",
          "data": {
            "text/plain": [
              "{'source': '/content/new_articles/05-03-chatgpt-everything-you-need-to-know-about-the-ai-powered-chatbot.txt'}"
            ]
          },
          "metadata": {},
          "execution_count": 60
        }
      ]
    },
    {
      "cell_type": "code",
      "source": [],
      "metadata": {
        "id": "km3yMHVXPEOJ"
      },
      "execution_count": 52,
      "outputs": []
    },
    {
      "cell_type": "markdown",
      "source": [
        "# THIS is the basic RAG we created!\n",
        "\n",
        "Answer is not coming from model but from database(embvbedding. LLM is here just for refinement just like function calling."
      ],
      "metadata": {
        "id": "HW81BHJLP_ZE"
      }
    },
    {
      "cell_type": "code",
      "source": [
        "# cleaning database\n",
        "\n",
        "!zip -r db.zip ./db\n",
        "\n",
        "# To cleanup, you can delete the collection\n",
        "vectordb.delete_collection()\n",
        "vectordb.persist()\n",
        "\n",
        "\n",
        "# delete the directory\n",
        "!rm -rf db/"
      ],
      "metadata": {
        "colab": {
          "base_uri": "https://localhost:8080/"
        },
        "id": "LPq3wt0KQFQA",
        "outputId": "010e29ed-4582-41f2-a640-c4dc522d97b3"
      },
      "execution_count": 61,
      "outputs": [
        {
          "output_type": "stream",
          "name": "stdout",
          "text": [
            "  adding: db/ (stored 0%)\n",
            "  adding: db/chroma.sqlite3 (deflated 41%)\n",
            "  adding: db/67436a60-3a65-4267-b09c-0cc801a434e9/ (stored 0%)\n",
            "  adding: db/67436a60-3a65-4267-b09c-0cc801a434e9/header.bin (deflated 61%)\n",
            "  adding: db/67436a60-3a65-4267-b09c-0cc801a434e9/length.bin (deflated 52%)\n",
            "  adding: db/67436a60-3a65-4267-b09c-0cc801a434e9/data_level0.bin (deflated 100%)\n",
            "  adding: db/67436a60-3a65-4267-b09c-0cc801a434e9/link_lists.bin (stored 0%)\n"
          ]
        }
      ]
    },
    {
      "cell_type": "code",
      "source": [],
      "metadata": {
        "id": "U6-YwRvvRxX2"
      },
      "execution_count": null,
      "outputs": []
    }
  ]
}